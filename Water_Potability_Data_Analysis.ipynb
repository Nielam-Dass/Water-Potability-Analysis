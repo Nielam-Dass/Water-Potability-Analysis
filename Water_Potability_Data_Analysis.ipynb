{
 "cells": [
  {
   "cell_type": "markdown",
   "id": "414e88af-8016-451c-a137-bc81785a7c2c",
   "metadata": {},
   "source": [
    "## Setup"
   ]
  },
  {
   "cell_type": "code",
   "execution_count": 1,
   "id": "4338aca3-310f-4d46-a774-327b6b55501a",
   "metadata": {},
   "outputs": [
    {
     "name": "stdout",
     "output_type": "stream",
     "text": [
      "Setup complete\n"
     ]
    }
   ],
   "source": [
    "from dotenv import load_dotenv\n",
    "import matplotlib.pyplot as plt\n",
    "\n",
    "load_dotenv()  # Defines KAGGLE_USERNAME and KAGGLE_KEY\n",
    "%matplotlib inline\n",
    "print('Setup complete')"
   ]
  },
  {
   "cell_type": "markdown",
   "id": "d73199e2-2bf6-4e48-b38b-f0a3f46d4625",
   "metadata": {},
   "source": [
    "## Download Data"
   ]
  },
  {
   "cell_type": "code",
   "execution_count": 4,
   "id": "6a94e59e-0a83-4e8c-a5df-1d2be1ae5a26",
   "metadata": {},
   "outputs": [
    {
     "name": "stdout",
     "output_type": "stream",
     "text": [
      "Dowloading dataset...\n",
      "Dataset URL: https://www.kaggle.com/datasets/nayanack/water-probability\n",
      "Complete\n"
     ]
    }
   ],
   "source": [
    "import kaggle\n",
    "import os\n",
    "\n",
    "api = kaggle.api\n",
    "# Kaggle requires an authentication token to access the API\n",
    "# Go to your Kaggle account settings to generate an API token, which will be downloaded as a kaggle.json file\n",
    "# Create a .env file and define the following environment variables...\n",
    "# KAGGLE_USERNAME=\"your_username\"\n",
    "# KAGGLE_KEY=\"your_key\"\n",
    "\n",
    "if not os.path.isdir('./data'):\n",
    "    print('Dowloading dataset...')\n",
    "    api.dataset_download_files('nayanack/water-probability', path='./data', unzip=True)\n",
    "    print('Complete')\n",
    "else:\n",
    "    print('Dataset already downloaded')"
   ]
  },
  {
   "cell_type": "code",
   "execution_count": null,
   "id": "26816d21-e6de-4b2b-9efc-1707bd37cfab",
   "metadata": {},
   "outputs": [],
   "source": []
  }
 ],
 "metadata": {
  "kernelspec": {
   "display_name": "Python 3 (ipykernel)",
   "language": "python",
   "name": "python3"
  },
  "language_info": {
   "codemirror_mode": {
    "name": "ipython",
    "version": 3
   },
   "file_extension": ".py",
   "mimetype": "text/x-python",
   "name": "python",
   "nbconvert_exporter": "python",
   "pygments_lexer": "ipython3",
   "version": "3.8.10"
  }
 },
 "nbformat": 4,
 "nbformat_minor": 5
}
