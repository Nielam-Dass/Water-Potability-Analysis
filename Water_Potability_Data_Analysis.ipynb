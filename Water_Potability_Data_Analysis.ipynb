{
 "cells": [
  {
   "cell_type": "markdown",
   "id": "414e88af-8016-451c-a137-bc81785a7c2c",
   "metadata": {},
   "source": [
    "## Setup"
   ]
  },
  {
   "cell_type": "code",
   "execution_count": 1,
   "id": "4338aca3-310f-4d46-a774-327b6b55501a",
   "metadata": {},
   "outputs": [
    {
     "name": "stdout",
     "output_type": "stream",
     "text": [
      "Setup complete\n"
     ]
    }
   ],
   "source": [
    "from dotenv import load_dotenv\n",
    "import matplotlib.pyplot as plt\n",
    "\n",
    "load_dotenv()  # Defines KAGGLE_USERNAME and KAGGLE_KEY\n",
    "%matplotlib inline\n",
    "print('Setup complete')"
   ]
  },
  {
   "cell_type": "markdown",
   "id": "d73199e2-2bf6-4e48-b38b-f0a3f46d4625",
   "metadata": {},
   "source": [
    "## Download Data"
   ]
  },
  {
   "cell_type": "code",
   "execution_count": 2,
   "id": "6a94e59e-0a83-4e8c-a5df-1d2be1ae5a26",
   "metadata": {},
   "outputs": [
    {
     "name": "stdout",
     "output_type": "stream",
     "text": [
      "Dataset already downloaded\n"
     ]
    }
   ],
   "source": [
    "import kaggle\n",
    "import os\n",
    "\n",
    "api = kaggle.api\n",
    "# Kaggle requires an authentication token to access the API\n",
    "# Go to your Kaggle account settings to generate an API token, which will be downloaded as a kaggle.json file\n",
    "# Create a .env file and define the following environment variables...\n",
    "# KAGGLE_USERNAME=\"your_username\"\n",
    "# KAGGLE_KEY=\"your_key\"\n",
    "\n",
    "if not os.path.isdir('./data'):\n",
    "    print('Dowloading dataset...')\n",
    "    api.dataset_download_files('nayanack/water-probability', path='./data', unzip=True)\n",
    "    print('Complete')\n",
    "else:\n",
    "    print('Dataset already downloaded')"
   ]
  },
  {
   "cell_type": "markdown",
   "id": "ca635258-2d44-419e-a76f-663040c83588",
   "metadata": {},
   "source": [
    "## Load Data"
   ]
  },
  {
   "cell_type": "code",
   "execution_count": 3,
   "id": "4f55d9a2-316b-4456-9c12-88f4c4339ee1",
   "metadata": {},
   "outputs": [
    {
     "data": {
      "text/html": [
       "<div>\n",
       "<style scoped>\n",
       "    .dataframe tbody tr th:only-of-type {\n",
       "        vertical-align: middle;\n",
       "    }\n",
       "\n",
       "    .dataframe tbody tr th {\n",
       "        vertical-align: top;\n",
       "    }\n",
       "\n",
       "    .dataframe thead th {\n",
       "        text-align: right;\n",
       "    }\n",
       "</style>\n",
       "<table border=\"1\" class=\"dataframe\">\n",
       "  <thead>\n",
       "    <tr style=\"text-align: right;\">\n",
       "      <th></th>\n",
       "      <th>ph</th>\n",
       "      <th>Hardness</th>\n",
       "      <th>Solids</th>\n",
       "      <th>Chloramines</th>\n",
       "      <th>Sulfate</th>\n",
       "      <th>Conductivity</th>\n",
       "      <th>Organic_carbon</th>\n",
       "      <th>Trihalomethanes</th>\n",
       "      <th>Turbidity</th>\n",
       "      <th>Potability</th>\n",
       "    </tr>\n",
       "  </thead>\n",
       "  <tbody>\n",
       "    <tr>\n",
       "      <th>0</th>\n",
       "      <td>NaN</td>\n",
       "      <td>204.890455</td>\n",
       "      <td>20791.318981</td>\n",
       "      <td>7.300212</td>\n",
       "      <td>368.516441</td>\n",
       "      <td>564.308654</td>\n",
       "      <td>10.379783</td>\n",
       "      <td>86.990970</td>\n",
       "      <td>2.963135</td>\n",
       "      <td>0</td>\n",
       "    </tr>\n",
       "    <tr>\n",
       "      <th>1</th>\n",
       "      <td>3.716080</td>\n",
       "      <td>129.422921</td>\n",
       "      <td>18630.057858</td>\n",
       "      <td>6.635246</td>\n",
       "      <td>NaN</td>\n",
       "      <td>592.885359</td>\n",
       "      <td>15.180013</td>\n",
       "      <td>56.329076</td>\n",
       "      <td>4.500656</td>\n",
       "      <td>0</td>\n",
       "    </tr>\n",
       "    <tr>\n",
       "      <th>2</th>\n",
       "      <td>8.099124</td>\n",
       "      <td>224.236259</td>\n",
       "      <td>19909.541732</td>\n",
       "      <td>9.275884</td>\n",
       "      <td>NaN</td>\n",
       "      <td>418.606213</td>\n",
       "      <td>16.868637</td>\n",
       "      <td>66.420093</td>\n",
       "      <td>3.055934</td>\n",
       "      <td>0</td>\n",
       "    </tr>\n",
       "    <tr>\n",
       "      <th>3</th>\n",
       "      <td>8.316766</td>\n",
       "      <td>214.373394</td>\n",
       "      <td>22018.417441</td>\n",
       "      <td>8.059332</td>\n",
       "      <td>356.886136</td>\n",
       "      <td>363.266516</td>\n",
       "      <td>18.436524</td>\n",
       "      <td>100.341674</td>\n",
       "      <td>4.628771</td>\n",
       "      <td>0</td>\n",
       "    </tr>\n",
       "    <tr>\n",
       "      <th>4</th>\n",
       "      <td>9.092223</td>\n",
       "      <td>181.101509</td>\n",
       "      <td>17978.986339</td>\n",
       "      <td>6.546600</td>\n",
       "      <td>310.135738</td>\n",
       "      <td>398.410813</td>\n",
       "      <td>11.558279</td>\n",
       "      <td>31.997993</td>\n",
       "      <td>4.075075</td>\n",
       "      <td>0</td>\n",
       "    </tr>\n",
       "  </tbody>\n",
       "</table>\n",
       "</div>"
      ],
      "text/plain": [
       "         ph    Hardness        Solids  Chloramines     Sulfate  Conductivity  \\\n",
       "0       NaN  204.890455  20791.318981     7.300212  368.516441    564.308654   \n",
       "1  3.716080  129.422921  18630.057858     6.635246         NaN    592.885359   \n",
       "2  8.099124  224.236259  19909.541732     9.275884         NaN    418.606213   \n",
       "3  8.316766  214.373394  22018.417441     8.059332  356.886136    363.266516   \n",
       "4  9.092223  181.101509  17978.986339     6.546600  310.135738    398.410813   \n",
       "\n",
       "   Organic_carbon  Trihalomethanes  Turbidity  Potability  \n",
       "0       10.379783        86.990970   2.963135           0  \n",
       "1       15.180013        56.329076   4.500656           0  \n",
       "2       16.868637        66.420093   3.055934           0  \n",
       "3       18.436524       100.341674   4.628771           0  \n",
       "4       11.558279        31.997993   4.075075           0  "
      ]
     },
     "execution_count": 3,
     "metadata": {},
     "output_type": "execute_result"
    }
   ],
   "source": [
    "import pandas as pd\n",
    "\n",
    "DATASET_DIR = '.\\data\\water_potability.csv'\n",
    "potability_data = pd.read_csv(DATASET_DIR)\n",
    "potability_data.head()"
   ]
  },
  {
   "cell_type": "code",
   "execution_count": 4,
   "id": "85ed42cf-ca49-45cf-b10a-82692baa7786",
   "metadata": {},
   "outputs": [
    {
     "data": {
      "text/plain": [
       "ph                 float64\n",
       "Hardness           float64\n",
       "Solids             float64\n",
       "Chloramines        float64\n",
       "Sulfate            float64\n",
       "Conductivity       float64\n",
       "Organic_carbon     float64\n",
       "Trihalomethanes    float64\n",
       "Turbidity          float64\n",
       "Potability           int64\n",
       "dtype: object"
      ]
     },
     "execution_count": 4,
     "metadata": {},
     "output_type": "execute_result"
    }
   ],
   "source": [
    "potability_data.dtypes"
   ]
  },
  {
   "cell_type": "code",
   "execution_count": 5,
   "id": "ce56f7f4-457f-4fbb-9f21-896ad093e4fb",
   "metadata": {},
   "outputs": [
    {
     "name": "stdout",
     "output_type": "stream",
     "text": [
      "Number of entries: 3276\n",
      "Dataframe shape: (3276, 10)\n"
     ]
    }
   ],
   "source": [
    "n = len(potability_data)\n",
    "print(f'Number of entries: {n}')\n",
    "print(f'Dataframe shape: {potability_data.shape}')"
   ]
  },
  {
   "cell_type": "markdown",
   "id": "1de309dd-c7d6-4286-b4a8-de62190fa83c",
   "metadata": {},
   "source": [
    "## Clean Data"
   ]
  },
  {
   "cell_type": "code",
   "execution_count": 6,
   "id": "4bd791a4-d0d2-4741-a5aa-02cdb51d9e7e",
   "metadata": {},
   "outputs": [
    {
     "data": {
      "text/plain": [
       "ph                 491\n",
       "Hardness             0\n",
       "Solids               0\n",
       "Chloramines          0\n",
       "Sulfate            781\n",
       "Conductivity         0\n",
       "Organic_carbon       0\n",
       "Trihalomethanes    162\n",
       "Turbidity            0\n",
       "Potability           0\n",
       "dtype: int64"
      ]
     },
     "execution_count": 6,
     "metadata": {},
     "output_type": "execute_result"
    }
   ],
   "source": [
    "# Count the number of missing values in each column\n",
    "potability_data.isna().sum()"
   ]
  },
  {
   "cell_type": "code",
   "execution_count": 7,
   "id": "fc741241-ac6e-42cd-b4d6-4713d54d13ad",
   "metadata": {},
   "outputs": [
    {
     "name": "stdout",
     "output_type": "stream",
     "text": [
      "Number of rows: 2011\n",
      "Dataframe shape: (2011, 10)\n"
     ]
    },
    {
     "data": {
      "text/html": [
       "<div>\n",
       "<style scoped>\n",
       "    .dataframe tbody tr th:only-of-type {\n",
       "        vertical-align: middle;\n",
       "    }\n",
       "\n",
       "    .dataframe tbody tr th {\n",
       "        vertical-align: top;\n",
       "    }\n",
       "\n",
       "    .dataframe thead th {\n",
       "        text-align: right;\n",
       "    }\n",
       "</style>\n",
       "<table border=\"1\" class=\"dataframe\">\n",
       "  <thead>\n",
       "    <tr style=\"text-align: right;\">\n",
       "      <th></th>\n",
       "      <th>ph</th>\n",
       "      <th>Hardness</th>\n",
       "      <th>Solids</th>\n",
       "      <th>Chloramines</th>\n",
       "      <th>Sulfate</th>\n",
       "      <th>Conductivity</th>\n",
       "      <th>Organic_carbon</th>\n",
       "      <th>Trihalomethanes</th>\n",
       "      <th>Turbidity</th>\n",
       "      <th>Unsafe</th>\n",
       "    </tr>\n",
       "  </thead>\n",
       "  <tbody>\n",
       "    <tr>\n",
       "      <th>3</th>\n",
       "      <td>8.316766</td>\n",
       "      <td>214.373394</td>\n",
       "      <td>22018.417441</td>\n",
       "      <td>8.059332</td>\n",
       "      <td>356.886136</td>\n",
       "      <td>363.266516</td>\n",
       "      <td>18.436524</td>\n",
       "      <td>100.341674</td>\n",
       "      <td>4.628771</td>\n",
       "      <td>1</td>\n",
       "    </tr>\n",
       "    <tr>\n",
       "      <th>4</th>\n",
       "      <td>9.092223</td>\n",
       "      <td>181.101509</td>\n",
       "      <td>17978.986339</td>\n",
       "      <td>6.546600</td>\n",
       "      <td>310.135738</td>\n",
       "      <td>398.410813</td>\n",
       "      <td>11.558279</td>\n",
       "      <td>31.997993</td>\n",
       "      <td>4.075075</td>\n",
       "      <td>1</td>\n",
       "    </tr>\n",
       "    <tr>\n",
       "      <th>5</th>\n",
       "      <td>5.584087</td>\n",
       "      <td>188.313324</td>\n",
       "      <td>28748.687739</td>\n",
       "      <td>7.544869</td>\n",
       "      <td>326.678363</td>\n",
       "      <td>280.467916</td>\n",
       "      <td>8.399735</td>\n",
       "      <td>54.917862</td>\n",
       "      <td>2.559708</td>\n",
       "      <td>1</td>\n",
       "    </tr>\n",
       "    <tr>\n",
       "      <th>6</th>\n",
       "      <td>10.223862</td>\n",
       "      <td>248.071735</td>\n",
       "      <td>28749.716544</td>\n",
       "      <td>7.513408</td>\n",
       "      <td>393.663396</td>\n",
       "      <td>283.651634</td>\n",
       "      <td>13.789695</td>\n",
       "      <td>84.603556</td>\n",
       "      <td>2.672989</td>\n",
       "      <td>1</td>\n",
       "    </tr>\n",
       "    <tr>\n",
       "      <th>7</th>\n",
       "      <td>8.635849</td>\n",
       "      <td>203.361523</td>\n",
       "      <td>13672.091764</td>\n",
       "      <td>4.563009</td>\n",
       "      <td>303.309771</td>\n",
       "      <td>474.607645</td>\n",
       "      <td>12.363817</td>\n",
       "      <td>62.798309</td>\n",
       "      <td>4.401425</td>\n",
       "      <td>1</td>\n",
       "    </tr>\n",
       "  </tbody>\n",
       "</table>\n",
       "</div>"
      ],
      "text/plain": [
       "          ph    Hardness        Solids  Chloramines     Sulfate  Conductivity  \\\n",
       "3   8.316766  214.373394  22018.417441     8.059332  356.886136    363.266516   \n",
       "4   9.092223  181.101509  17978.986339     6.546600  310.135738    398.410813   \n",
       "5   5.584087  188.313324  28748.687739     7.544869  326.678363    280.467916   \n",
       "6  10.223862  248.071735  28749.716544     7.513408  393.663396    283.651634   \n",
       "7   8.635849  203.361523  13672.091764     4.563009  303.309771    474.607645   \n",
       "\n",
       "   Organic_carbon  Trihalomethanes  Turbidity  Unsafe  \n",
       "3       18.436524       100.341674   4.628771       1  \n",
       "4       11.558279        31.997993   4.075075       1  \n",
       "5        8.399735        54.917862   2.559708       1  \n",
       "6       13.789695        84.603556   2.672989       1  \n",
       "7       12.363817        62.798309   4.401425       1  "
      ]
     },
     "execution_count": 7,
     "metadata": {},
     "output_type": "execute_result"
    }
   ],
   "source": [
    "# Remove rows with missing values\n",
    "potability_data = potability_data.dropna()\n",
    "# Switch 1/0 labels so that unsafe water samples are labeled 1 and safe water samples are labeled 0\n",
    "potability_data['Unsafe'] = 1 - potability_data['Potability']\n",
    "potability_data = potability_data.drop(columns='Potability')\n",
    "n = len(potability_data)\n",
    "print(f'Number of rows: {n}')\n",
    "print(f'Dataframe shape: {potability_data.shape}')\n",
    "potability_data.head()"
   ]
  },
  {
   "cell_type": "markdown",
   "id": "3d1097ec-2f44-4e3c-b475-f8524fccb3c3",
   "metadata": {},
   "source": [
    "## Split Data"
   ]
  },
  {
   "cell_type": "code",
   "execution_count": 8,
   "id": "bb83ba00-6918-45f1-ada7-6a5d19be47ea",
   "metadata": {},
   "outputs": [
    {
     "name": "stdout",
     "output_type": "stream",
     "text": [
      "Training rows: 1608\n",
      "Test rows: 403\n",
      "Train X data shape: (1608, 9)\n",
      "Train y data shape: (1608,)\n",
      "Test X data shape: (403, 9)\n",
      "Test y data shape: (403,)\n"
     ]
    },
    {
     "data": {
      "text/html": [
       "<div>\n",
       "<style scoped>\n",
       "    .dataframe tbody tr th:only-of-type {\n",
       "        vertical-align: middle;\n",
       "    }\n",
       "\n",
       "    .dataframe tbody tr th {\n",
       "        vertical-align: top;\n",
       "    }\n",
       "\n",
       "    .dataframe thead th {\n",
       "        text-align: right;\n",
       "    }\n",
       "</style>\n",
       "<table border=\"1\" class=\"dataframe\">\n",
       "  <thead>\n",
       "    <tr style=\"text-align: right;\">\n",
       "      <th></th>\n",
       "      <th>ph</th>\n",
       "      <th>Hardness</th>\n",
       "      <th>Solids</th>\n",
       "      <th>Chloramines</th>\n",
       "      <th>Sulfate</th>\n",
       "      <th>Conductivity</th>\n",
       "      <th>Organic_carbon</th>\n",
       "      <th>Trihalomethanes</th>\n",
       "      <th>Turbidity</th>\n",
       "    </tr>\n",
       "  </thead>\n",
       "  <tbody>\n",
       "    <tr>\n",
       "      <th>2155</th>\n",
       "      <td>4.981672</td>\n",
       "      <td>220.950558</td>\n",
       "      <td>20988.087806</td>\n",
       "      <td>7.985668</td>\n",
       "      <td>232.548814</td>\n",
       "      <td>373.624878</td>\n",
       "      <td>12.235175</td>\n",
       "      <td>45.950030</td>\n",
       "      <td>4.475148</td>\n",
       "    </tr>\n",
       "    <tr>\n",
       "      <th>3045</th>\n",
       "      <td>5.622807</td>\n",
       "      <td>194.463239</td>\n",
       "      <td>16119.340190</td>\n",
       "      <td>6.907987</td>\n",
       "      <td>336.648207</td>\n",
       "      <td>408.459081</td>\n",
       "      <td>16.364724</td>\n",
       "      <td>76.631186</td>\n",
       "      <td>3.992957</td>\n",
       "    </tr>\n",
       "    <tr>\n",
       "      <th>1550</th>\n",
       "      <td>8.416087</td>\n",
       "      <td>208.326022</td>\n",
       "      <td>28234.906857</td>\n",
       "      <td>7.784123</td>\n",
       "      <td>297.330528</td>\n",
       "      <td>444.560108</td>\n",
       "      <td>12.645176</td>\n",
       "      <td>78.756533</td>\n",
       "      <td>4.930084</td>\n",
       "    </tr>\n",
       "    <tr>\n",
       "      <th>1824</th>\n",
       "      <td>6.980727</td>\n",
       "      <td>200.467226</td>\n",
       "      <td>30862.784459</td>\n",
       "      <td>6.196276</td>\n",
       "      <td>391.666878</td>\n",
       "      <td>422.489596</td>\n",
       "      <td>9.066902</td>\n",
       "      <td>48.250468</td>\n",
       "      <td>5.437619</td>\n",
       "    </tr>\n",
       "    <tr>\n",
       "      <th>3244</th>\n",
       "      <td>5.836105</td>\n",
       "      <td>277.065713</td>\n",
       "      <td>17711.487774</td>\n",
       "      <td>3.458192</td>\n",
       "      <td>400.167599</td>\n",
       "      <td>456.732862</td>\n",
       "      <td>17.552294</td>\n",
       "      <td>72.059866</td>\n",
       "      <td>3.738991</td>\n",
       "    </tr>\n",
       "  </tbody>\n",
       "</table>\n",
       "</div>"
      ],
      "text/plain": [
       "            ph    Hardness        Solids  Chloramines     Sulfate  \\\n",
       "2155  4.981672  220.950558  20988.087806     7.985668  232.548814   \n",
       "3045  5.622807  194.463239  16119.340190     6.907987  336.648207   \n",
       "1550  8.416087  208.326022  28234.906857     7.784123  297.330528   \n",
       "1824  6.980727  200.467226  30862.784459     6.196276  391.666878   \n",
       "3244  5.836105  277.065713  17711.487774     3.458192  400.167599   \n",
       "\n",
       "      Conductivity  Organic_carbon  Trihalomethanes  Turbidity  \n",
       "2155    373.624878       12.235175        45.950030   4.475148  \n",
       "3045    408.459081       16.364724        76.631186   3.992957  \n",
       "1550    444.560108       12.645176        78.756533   4.930084  \n",
       "1824    422.489596        9.066902        48.250468   5.437619  \n",
       "3244    456.732862       17.552294        72.059866   3.738991  "
      ]
     },
     "execution_count": 8,
     "metadata": {},
     "output_type": "execute_result"
    }
   ],
   "source": [
    "# Train-Test split 80-20\n",
    "# Separate features from labels\n",
    "from sklearn.model_selection import train_test_split\n",
    "\n",
    "X = potability_data.drop(columns='Unsafe')\n",
    "y = potability_data['Unsafe']\n",
    "X_train, X_test, y_train, y_test = train_test_split(X, y, test_size=0.2, random_state=1)\n",
    "train_n = len(X_train)\n",
    "test_n = len(X_test)\n",
    "print(f'Training rows: {train_n}')\n",
    "print(f'Test rows: {test_n}')\n",
    "print(f'Train X data shape: {X_train.shape}')\n",
    "print(f'Train y data shape: {y_train.shape}')\n",
    "print(f'Test X data shape: {X_test.shape}')\n",
    "print(f'Test y data shape: {y_test.shape}')\n",
    "X_train.head()"
   ]
  },
  {
   "cell_type": "markdown",
   "id": "7011a51a-a2dd-4b27-bcef-efed68c66e18",
   "metadata": {},
   "source": [
    "## Visualize Data"
   ]
  },
  {
   "cell_type": "code",
   "execution_count": 9,
   "id": "b6057c0f-9dd2-46a0-8847-07dc9074fdcf",
   "metadata": {},
   "outputs": [
    {
     "data": {
      "text/plain": [
       "ph                     7.104552\n",
       "Hardness             196.124656\n",
       "Solids             21874.781806\n",
       "Chloramines            7.140099\n",
       "Sulfate              332.974047\n",
       "Conductivity         426.089467\n",
       "Organic_carbon        14.399908\n",
       "Trihalomethanes       66.428997\n",
       "Turbidity              3.966356\n",
       "dtype: float64"
      ]
     },
     "execution_count": 9,
     "metadata": {},
     "output_type": "execute_result"
    }
   ],
   "source": [
    "# Print mean values for each feature column in the training data\n",
    "X_train.mean()"
   ]
  },
  {
   "cell_type": "code",
   "execution_count": 10,
   "id": "64047d11-0a59-4467-a221-2eaaeeb3a448",
   "metadata": {},
   "outputs": [
    {
     "data": {
      "text/plain": [
       "Unsafe\n",
       "1    947\n",
       "0    661\n",
       "Name: count, dtype: int64"
      ]
     },
     "execution_count": 10,
     "metadata": {},
     "output_type": "execute_result"
    }
   ],
   "source": [
    "# Count 1 and 0 labels in training data\n",
    "y_train.value_counts()"
   ]
  },
  {
   "cell_type": "code",
   "execution_count": 11,
   "id": "58bf8e39-89e3-403a-b230-57af9e1c5b0d",
   "metadata": {},
   "outputs": [
    {
     "data": {
      "image/png": "[encoded data removed]",
      "text/plain": [
       "<Figure size 640x480 with 2 Axes>"
      ]
     },
     "metadata": {},
     "output_type": "display_data"
    }
   ],
   "source": [
    "# Display correlation matrix between features\n",
    "import seaborn as sns\n",
    "corr_matrix = X_train.corr()\n",
    "plt.figure()\n",
    "sns.heatmap(corr_matrix, annot=True, vmin=-1.0, vmax=1.0, annot_kws={'fontsize':7})\n",
    "plt.show()"
   ]
  },
  {
   "cell_type": "markdown",
   "id": "78b310d5-6f0d-40ac-9e9a-5a20dd7c811b",
   "metadata": {},
   "source": [
    "As shown above, there is almost no significant correlation between a pair of different features. All off-diagonal correlations are very close to zero."
   ]
  },
  {
   "cell_type": "code",
   "execution_count": 12,
   "id": "bb226563-0df1-4ea4-878f-f3e9ff7eaca3",
   "metadata": {},
   "outputs": [
    {
     "name": "stdout",
     "output_type": "stream",
     "text": [
      "Sulfate            0.017519\n",
      "Organic_carbon     0.004846\n",
      "Turbidity          0.001732\n",
      "ph                 0.000267\n",
      "Hardness           0.000000\n",
      "Solids             0.000000\n",
      "Chloramines        0.000000\n",
      "Conductivity       0.000000\n",
      "Trihalomethanes    0.000000\n",
      "Name: MI Scores, dtype: float64\n"
     ]
    },
    {
     "data": {
      "image/png": "[encoded data removed]",
      "text/plain": [
       "<Figure size 640x480 with 1 Axes>"
      ]
     },
     "metadata": {},
     "output_type": "display_data"
    }
   ],
   "source": [
    "# Display mutual information scores between features and target\n",
    "from sklearn.feature_selection import mutual_info_classif\n",
    "\n",
    "mi_scores = mutual_info_classif(X_train, y_train, discrete_features=False)\n",
    "mi_scores = pd.Series(mi_scores, index=X_train.columns, name='MI Scores')\n",
    "mi_scores = mi_scores.sort_values(ascending=False)\n",
    "print(mi_scores)\n",
    "plt.figure()\n",
    "plt.bar(mi_scores.index, mi_scores)\n",
    "plt.title('Mutual Information Scores')\n",
    "plt.xticks(rotation='vertical')\n",
    "plt.show()"
   ]
  },
  {
   "cell_type": "markdown",
   "id": "acd1cc38-90db-4477-9d47-55dea34d42ab",
   "metadata": {},
   "source": [
    "Only 4 features have a non-zero mutual information score for the target variable. Sulfate levels have the highest mutual information, but it is only 0.0175. We can try to visualize how the distribution for this feature variable changes based on the potability."
   ]
  },
  {
   "cell_type": "code",
   "execution_count": 13,
   "id": "b72b9142-88e6-444e-be02-7699ebf4283d",
   "metadata": {},
   "outputs": [
    {
     "data": {
      "image/png": "[encoded data removed]",
      "text/plain": [
       "<Figure size 640x480 with 1 Axes>"
      ]
     },
     "metadata": {},
     "output_type": "display_data"
    }
   ],
   "source": [
    "plt.figure()\n",
    "sns.kdeplot(x=X_train['Sulfate'], hue=y_train)\n",
    "plt.show()"
   ]
  },
  {
   "cell_type": "markdown",
   "id": "b230a54b-dd20-46be-bfe9-6b6fd23ad4d8",
   "metadata": {},
   "source": [
    "The distribution of sulfate levels tends to be slightly more spread out when water is safe to drink, but the mean is roughly the same. This feature, by itself, does not appear to be a very useful predictor for the target variable, despite it having the highest mutual information score. Therefore, we can expect that any classifier model trying to predict the potability of a water sample based on the provided features in this dataset, will not have strong performance."
   ]
  },
  {
   "cell_type": "markdown",
   "id": "5e5f1e49-0d8e-4dbf-8be6-f984c9ba38b3",
   "metadata": {},
   "source": [
    "## Unsupervised Methods"
   ]
  },
  {
   "cell_type": "markdown",
   "id": "8d492fae-ca9b-452f-b48f-d43b5d967822",
   "metadata": {},
   "source": [
    "### PCA"
   ]
  },
  {
   "cell_type": "code",
   "execution_count": 14,
   "id": "6629fc97-871f-4cd8-9d75-f7dbf4d033f7",
   "metadata": {},
   "outputs": [
    {
     "data": {
      "text/html": [
       "<div>\n",
       "<style scoped>\n",
       "    .dataframe tbody tr th:only-of-type {\n",
       "        vertical-align: middle;\n",
       "    }\n",
       "\n",
       "    .dataframe tbody tr th {\n",
       "        vertical-align: top;\n",
       "    }\n",
       "\n",
       "    .dataframe thead th {\n",
       "        text-align: right;\n",
       "    }\n",
       "</style>\n",
       "<table border=\"1\" class=\"dataframe\">\n",
       "  <thead>\n",
       "    <tr style=\"text-align: right;\">\n",
       "      <th></th>\n",
       "      <th>PC1</th>\n",
       "      <th>PC2</th>\n",
       "      <th>PC3</th>\n",
       "      <th>PC4</th>\n",
       "      <th>PC5</th>\n",
       "      <th>PC6</th>\n",
       "      <th>PC7</th>\n",
       "      <th>PC8</th>\n",
       "      <th>PC9</th>\n",
       "    </tr>\n",
       "  </thead>\n",
       "  <tbody>\n",
       "    <tr>\n",
       "      <th>0</th>\n",
       "      <td>1.721025</td>\n",
       "      <td>-0.265405</td>\n",
       "      <td>1.777196</td>\n",
       "      <td>1.552849</td>\n",
       "      <td>-0.147155</td>\n",
       "      <td>-0.183984</td>\n",
       "      <td>1.062727</td>\n",
       "      <td>-0.597407</td>\n",
       "      <td>1.199992</td>\n",
       "    </tr>\n",
       "    <tr>\n",
       "      <th>1</th>\n",
       "      <td>-0.273752</td>\n",
       "      <td>0.463004</td>\n",
       "      <td>-0.215487</td>\n",
       "      <td>-0.382025</td>\n",
       "      <td>-0.072759</td>\n",
       "      <td>-0.523525</td>\n",
       "      <td>0.384903</td>\n",
       "      <td>-1.065051</td>\n",
       "      <td>0.375971</td>\n",
       "    </tr>\n",
       "    <tr>\n",
       "      <th>2</th>\n",
       "      <td>0.632944</td>\n",
       "      <td>-0.709425</td>\n",
       "      <td>1.178651</td>\n",
       "      <td>-0.282692</td>\n",
       "      <td>1.033194</td>\n",
       "      <td>-0.631512</td>\n",
       "      <td>-0.762302</td>\n",
       "      <td>0.474525</td>\n",
       "      <td>-0.306820</td>\n",
       "    </tr>\n",
       "    <tr>\n",
       "      <th>3</th>\n",
       "      <td>0.377005</td>\n",
       "      <td>0.976270</td>\n",
       "      <td>0.316099</td>\n",
       "      <td>1.833324</td>\n",
       "      <td>0.837403</td>\n",
       "      <td>0.677243</td>\n",
       "      <td>-1.739703</td>\n",
       "      <td>-0.055884</td>\n",
       "      <td>-1.461091</td>\n",
       "    </tr>\n",
       "    <tr>\n",
       "      <th>4</th>\n",
       "      <td>-0.611974</td>\n",
       "      <td>-1.305073</td>\n",
       "      <td>-2.015483</td>\n",
       "      <td>0.495719</td>\n",
       "      <td>-0.180706</td>\n",
       "      <td>0.072886</td>\n",
       "      <td>-0.108561</td>\n",
       "      <td>-2.766377</td>\n",
       "      <td>-1.434994</td>\n",
       "    </tr>\n",
       "  </tbody>\n",
       "</table>\n",
       "</div>"
      ],
      "text/plain": [
       "        PC1       PC2       PC3       PC4       PC5       PC6       PC7  \\\n",
       "0  1.721025 -0.265405  1.777196  1.552849 -0.147155 -0.183984  1.062727   \n",
       "1 -0.273752  0.463004 -0.215487 -0.382025 -0.072759 -0.523525  0.384903   \n",
       "2  0.632944 -0.709425  1.178651 -0.282692  1.033194 -0.631512 -0.762302   \n",
       "3  0.377005  0.976270  0.316099  1.833324  0.837403  0.677243 -1.739703   \n",
       "4 -0.611974 -1.305073 -2.015483  0.495719 -0.180706  0.072886 -0.108561   \n",
       "\n",
       "        PC8       PC9  \n",
       "0 -0.597407  1.199992  \n",
       "1 -1.065051  0.375971  \n",
       "2  0.474525 -0.306820  \n",
       "3 -0.055884 -1.461091  \n",
       "4 -2.766377 -1.434994  "
      ]
     },
     "execution_count": 14,
     "metadata": {},
     "output_type": "execute_result"
    }
   ],
   "source": [
    "from sklearn.decomposition import PCA\n",
    "\n",
    "X_train_scaled = (X_train - X_train.mean()) / X_train.std()\n",
    "pca = PCA()\n",
    "X_pca = pca.fit_transform(X_train_scaled)\n",
    "component_names = [f'PC{i+1}' for i in range(X_pca.shape[1])]\n",
    "X_pca = pd.DataFrame(X_pca, columns=component_names)\n",
    "X_pca.head()"
   ]
  },
  {
   "cell_type": "code",
   "execution_count": 15,
   "id": "7792fe03-fd21-47dd-8106-d7088f07e4d5",
   "metadata": {},
   "outputs": [
    {
     "data": {
      "text/html": [
       "<div>\n",
       "<style scoped>\n",
       "    .dataframe tbody tr th:only-of-type {\n",
       "        vertical-align: middle;\n",
       "    }\n",
       "\n",
       "    .dataframe tbody tr th {\n",
       "        vertical-align: top;\n",
       "    }\n",
       "\n",
       "    .dataframe thead th {\n",
       "        text-align: right;\n",
       "    }\n",
       "</style>\n",
       "<table border=\"1\" class=\"dataframe\">\n",
       "  <thead>\n",
       "    <tr style=\"text-align: right;\">\n",
       "      <th></th>\n",
       "      <th>PC1</th>\n",
       "      <th>PC2</th>\n",
       "      <th>PC3</th>\n",
       "      <th>PC4</th>\n",
       "      <th>PC5</th>\n",
       "      <th>PC6</th>\n",
       "      <th>PC7</th>\n",
       "      <th>PC8</th>\n",
       "      <th>PC9</th>\n",
       "    </tr>\n",
       "  </thead>\n",
       "  <tbody>\n",
       "    <tr>\n",
       "      <th>ph</th>\n",
       "      <td>-0.320873</td>\n",
       "      <td>-0.532885</td>\n",
       "      <td>-0.056272</td>\n",
       "      <td>-0.028415</td>\n",
       "      <td>0.051909</td>\n",
       "      <td>-0.094666</td>\n",
       "      <td>-0.387047</td>\n",
       "      <td>0.668970</td>\n",
       "      <td>-0.010888</td>\n",
       "    </tr>\n",
       "    <tr>\n",
       "      <th>Hardness</th>\n",
       "      <td>-0.049667</td>\n",
       "      <td>-0.665402</td>\n",
       "      <td>0.192184</td>\n",
       "      <td>0.257405</td>\n",
       "      <td>-0.049081</td>\n",
       "      <td>-0.063200</td>\n",
       "      <td>0.210900</td>\n",
       "      <td>-0.417623</td>\n",
       "      <td>-0.475700</td>\n",
       "    </tr>\n",
       "    <tr>\n",
       "      <th>Solids</th>\n",
       "      <td>0.710374</td>\n",
       "      <td>0.078462</td>\n",
       "      <td>-0.063828</td>\n",
       "      <td>-0.125330</td>\n",
       "      <td>-0.056340</td>\n",
       "      <td>-0.048600</td>\n",
       "      <td>-0.106154</td>\n",
       "      <td>0.318976</td>\n",
       "      <td>-0.592351</td>\n",
       "    </tr>\n",
       "    <tr>\n",
       "      <th>Chloramines</th>\n",
       "      <td>-0.252186</td>\n",
       "      <td>0.223423</td>\n",
       "      <td>0.603095</td>\n",
       "      <td>-0.109447</td>\n",
       "      <td>0.071367</td>\n",
       "      <td>-0.114741</td>\n",
       "      <td>0.546051</td>\n",
       "      <td>0.394031</td>\n",
       "      <td>-0.197716</td>\n",
       "    </tr>\n",
       "    <tr>\n",
       "      <th>Sulfate</th>\n",
       "      <td>-0.557568</td>\n",
       "      <td>0.385489</td>\n",
       "      <td>-0.325219</td>\n",
       "      <td>0.055268</td>\n",
       "      <td>-0.039870</td>\n",
       "      <td>0.143040</td>\n",
       "      <td>-0.177058</td>\n",
       "      <td>-0.074420</td>\n",
       "      <td>-0.610538</td>\n",
       "    </tr>\n",
       "    <tr>\n",
       "      <th>Conductivity</th>\n",
       "      <td>0.038249</td>\n",
       "      <td>-0.160500</td>\n",
       "      <td>-0.209691</td>\n",
       "      <td>-0.239747</td>\n",
       "      <td>0.734972</td>\n",
       "      <td>0.517086</td>\n",
       "      <td>0.247145</td>\n",
       "      <td>0.021037</td>\n",
       "      <td>-0.047361</td>\n",
       "    </tr>\n",
       "    <tr>\n",
       "      <th>Organic_carbon</th>\n",
       "      <td>-0.039905</td>\n",
       "      <td>-0.051312</td>\n",
       "      <td>-0.600646</td>\n",
       "      <td>-0.077148</td>\n",
       "      <td>0.079708</td>\n",
       "      <td>-0.630754</td>\n",
       "      <td>0.469572</td>\n",
       "      <td>0.062751</td>\n",
       "      <td>0.020202</td>\n",
       "    </tr>\n",
       "    <tr>\n",
       "      <th>Trihalomethanes</th>\n",
       "      <td>-0.100537</td>\n",
       "      <td>-0.064615</td>\n",
       "      <td>0.186358</td>\n",
       "      <td>-0.831259</td>\n",
       "      <td>0.064856</td>\n",
       "      <td>-0.284351</td>\n",
       "      <td>-0.260972</td>\n",
       "      <td>-0.316892</td>\n",
       "      <td>-0.080044</td>\n",
       "    </tr>\n",
       "    <tr>\n",
       "      <th>Turbidity</th>\n",
       "      <td>0.047948</td>\n",
       "      <td>0.189816</td>\n",
       "      <td>0.216470</td>\n",
       "      <td>0.384411</td>\n",
       "      <td>0.659012</td>\n",
       "      <td>-0.452738</td>\n",
       "      <td>-0.339471</td>\n",
       "      <td>-0.103565</td>\n",
       "      <td>-0.042484</td>\n",
       "    </tr>\n",
       "  </tbody>\n",
       "</table>\n",
       "</div>"
      ],
      "text/plain": [
       "                      PC1       PC2       PC3       PC4       PC5       PC6  \\\n",
       "ph              -0.320873 -0.532885 -0.056272 -0.028415  0.051909 -0.094666   \n",
       "Hardness        -0.049667 -0.665402  0.192184  0.257405 -0.049081 -0.063200   \n",
       "Solids           0.710374  0.078462 -0.063828 -0.125330 -0.056340 -0.048600   \n",
       "Chloramines     -0.252186  0.223423  0.603095 -0.109447  0.071367 -0.114741   \n",
       "Sulfate         -0.557568  0.385489 -0.325219  0.055268 -0.039870  0.143040   \n",
       "Conductivity     0.038249 -0.160500 -0.209691 -0.239747  0.734972  0.517086   \n",
       "Organic_carbon  -0.039905 -0.051312 -0.600646 -0.077148  0.079708 -0.630754   \n",
       "Trihalomethanes -0.100537 -0.064615  0.186358 -0.831259  0.064856 -0.284351   \n",
       "Turbidity        0.047948  0.189816  0.216470  0.384411  0.659012 -0.452738   \n",
       "\n",
       "                      PC7       PC8       PC9  \n",
       "ph              -0.387047  0.668970 -0.010888  \n",
       "Hardness         0.210900 -0.417623 -0.475700  \n",
       "Solids          -0.106154  0.318976 -0.592351  \n",
       "Chloramines      0.546051  0.394031 -0.197716  \n",
       "Sulfate         -0.177058 -0.074420 -0.610538  \n",
       "Conductivity     0.247145  0.021037 -0.047361  \n",
       "Organic_carbon   0.469572  0.062751  0.020202  \n",
       "Trihalomethanes -0.260972 -0.316892 -0.080044  \n",
       "Turbidity       -0.339471 -0.103565 -0.042484  "
      ]
     },
     "execution_count": 15,
     "metadata": {},
     "output_type": "execute_result"
    }
   ],
   "source": [
    "# Loadings for each principal component\n",
    "loadings = pd.DataFrame(pca.components_.T, index=X_train.columns, columns=component_names)\n",
    "loadings"
   ]
  },
  {
   "cell_type": "code",
   "execution_count": 16,
   "id": "00ce9c90-82aa-4bbd-baa3-8d767579580d",
   "metadata": {},
   "outputs": [
    {
     "name": "stdout",
     "output_type": "stream",
     "text": [
      "[0.13131995 0.1289127  0.12051523 0.11366319 0.11217667 0.10722851\n",
      " 0.10255233 0.09803802 0.08559341]\n"
     ]
    },
    {
     "data": {
      "image/png": "[encoded data removed]",
      "text/plain": [
       "<Figure size 640x480 with 1 Axes>"
      ]
     },
     "metadata": {},
     "output_type": "display_data"
    }
   ],
   "source": [
    "# Display amount of data variation captured by each component\n",
    "print(pca.explained_variance_ratio_)\n",
    "plt.figure()\n",
    "plt.ylim(0.0, 1.0)\n",
    "plt.title('Explained Variance Ratios')\n",
    "plt.bar(component_names, pca.explained_variance_ratio_)\n",
    "plt.show()"
   ]
  },
  {
   "cell_type": "markdown",
   "id": "1e6f8403-953d-4a38-9402-1e7b5345996a",
   "metadata": {},
   "source": [
    "None of the principal components capture a significant amount of variation in the data. The first compoenent captures the most, but only represents about 13% of the variance. This is expected as the original features were already uncorrelated (see correlation matrix)."
   ]
  },
  {
   "cell_type": "markdown",
   "id": "856129c7-be8f-4b6e-971f-eb7d1fb8ab1a",
   "metadata": {},
   "source": [
    "### K-means Clustering"
   ]
  },
  {
   "cell_type": "code",
   "execution_count": 17,
   "id": "0c2723be-c5dc-4731-bc0c-5c049560eac6",
   "metadata": {},
   "outputs": [
    {
     "data": {
      "text/html": [
       "<div>\n",
       "<style scoped>\n",
       "    .dataframe tbody tr th:only-of-type {\n",
       "        vertical-align: middle;\n",
       "    }\n",
       "\n",
       "    .dataframe tbody tr th {\n",
       "        vertical-align: top;\n",
       "    }\n",
       "\n",
       "    .dataframe thead th {\n",
       "        text-align: right;\n",
       "    }\n",
       "</style>\n",
       "<table border=\"1\" class=\"dataframe\">\n",
       "  <thead>\n",
       "    <tr style=\"text-align: right;\">\n",
       "      <th></th>\n",
       "      <th>Cluster 0</th>\n",
       "      <th>Cluster 1</th>\n",
       "    </tr>\n",
       "  </thead>\n",
       "  <tbody>\n",
       "    <tr>\n",
       "      <th>Safe</th>\n",
       "      <td>315</td>\n",
       "      <td>346</td>\n",
       "    </tr>\n",
       "    <tr>\n",
       "      <th>Unsafe</th>\n",
       "      <td>444</td>\n",
       "      <td>503</td>\n",
       "    </tr>\n",
       "  </tbody>\n",
       "</table>\n",
       "</div>"
      ],
      "text/plain": [
       "        Cluster 0  Cluster 1\n",
       "Safe          315        346\n",
       "Unsafe        444        503"
      ]
     },
     "execution_count": 17,
     "metadata": {},
     "output_type": "execute_result"
    }
   ],
   "source": [
    "# Attempt to divide data into two clusters, which might separate the safe from unsafe samples\n",
    "from sklearn.cluster import KMeans\n",
    "\n",
    "kmeans = KMeans(n_clusters=2, n_init=10, random_state=1)\n",
    "cluster_labels = kmeans.fit_predict(X_train_scaled)\n",
    "\n",
    "from sklearn.metrics import confusion_matrix\n",
    "cm = confusion_matrix(y_train, cluster_labels)\n",
    "cm_df = pd.DataFrame(cm, columns=['Cluster 0', 'Cluster 1'], index=['Safe', 'Unsafe'])\n",
    "cm_df"
   ]
  },
  {
   "cell_type": "code",
   "execution_count": 18,
   "id": "a468393d-ce39-46e7-bde5-a9ab75c196a7",
   "metadata": {},
   "outputs": [
    {
     "name": "stdout",
     "output_type": "stream",
     "text": [
      "Cluster 0 = Safe; Cluster 1 = Unsafe\n",
      "Accuracy: 0.5087064676616916\n"
     ]
    }
   ],
   "source": [
    "# Determine how to assign labels based on cluster to maximize accuracy\n",
    "acc1 = (cm[0][0] + cm[1][1]) / train_n\n",
    "acc2 = (cm[1][0] + cm[0][1]) / train_n\n",
    "if acc1 > acc2:\n",
    "    print('Cluster 0 = Safe; Cluster 1 = Unsafe')\n",
    "    print(f'Accuracy: {acc1}')\n",
    "else:\n",
    "    print('Cluster 11 = Safe; Cluster 0 = Unsafe')\n",
    "    print(f'Accuracy: {acc2}')"
   ]
  },
  {
   "cell_type": "markdown",
   "id": "664467e4-ed33-4c59-aa8c-204127f000b2",
   "metadata": {},
   "source": [
    "If points assigned to Cluster 0 are considered safe and points in Cluster 1 are unsafe, we only get 50.9% accuracy, which is extremely low for a binary classifier."
   ]
  },
  {
   "cell_type": "code",
   "execution_count": 19,
   "id": "b3f68c1d-a280-4857-b35d-0e0bb87bc50b",
   "metadata": {},
   "outputs": [
    {
     "name": "stdout",
     "output_type": "stream",
     "text": [
      "Cluster centers:\n"
     ]
    },
    {
     "data": {
      "text/plain": [
       "array([[-0.30712234, -0.09429766,  0.65446365, -0.24840503, -0.44018691,\n",
       "         0.05999816,  0.09542656, -0.1545002 ,  0.05308876],\n",
       "       [ 0.27593873,  0.08472316, -0.5880128 ,  0.22318327,  0.39549261,\n",
       "        -0.05390626, -0.08573744,  0.13881305, -0.0476984 ]])"
      ]
     },
     "execution_count": 19,
     "metadata": {},
     "output_type": "execute_result"
    }
   ],
   "source": [
    "print('Cluster centers:')\n",
    "kmeans.cluster_centers_"
   ]
  },
  {
   "cell_type": "code",
   "execution_count": 20,
   "id": "1ea2d0da-61f9-4ab3-ae6a-1d16debe25df",
   "metadata": {},
   "outputs": [
    {
     "name": "stdout",
     "output_type": "stream",
     "text": [
      "Test Accuracy: 0.4813895781637717\n"
     ]
    },
    {
     "data": {
      "text/html": [
       "<div>\n",
       "<style scoped>\n",
       "    .dataframe tbody tr th:only-of-type {\n",
       "        vertical-align: middle;\n",
       "    }\n",
       "\n",
       "    .dataframe tbody tr th {\n",
       "        vertical-align: top;\n",
       "    }\n",
       "\n",
       "    .dataframe thead th {\n",
       "        text-align: right;\n",
       "    }\n",
       "</style>\n",
       "<table border=\"1\" class=\"dataframe\">\n",
       "  <thead>\n",
       "    <tr style=\"text-align: right;\">\n",
       "      <th></th>\n",
       "      <th>Cluster 0</th>\n",
       "      <th>Cluster 1</th>\n",
       "    </tr>\n",
       "  </thead>\n",
       "  <tbody>\n",
       "    <tr>\n",
       "      <th>Safe</th>\n",
       "      <td>68</td>\n",
       "      <td>82</td>\n",
       "    </tr>\n",
       "    <tr>\n",
       "      <th>Unsafe</th>\n",
       "      <td>127</td>\n",
       "      <td>126</td>\n",
       "    </tr>\n",
       "  </tbody>\n",
       "</table>\n",
       "</div>"
      ],
      "text/plain": [
       "        Cluster 0  Cluster 1\n",
       "Safe           68         82\n",
       "Unsafe        127        126"
      ]
     },
     "execution_count": 20,
     "metadata": {},
     "output_type": "execute_result"
    }
   ],
   "source": [
    "# Evaulate test accuracy using same cluster approach\n",
    "X_test_scaled = (X_test - X_train.mean()) / X_train.std()\n",
    "test_cluster_labels = kmeans.predict(X_test_scaled)\n",
    "cm = confusion_matrix(y_test, test_cluster_labels)\n",
    "cm_df = pd.DataFrame(cm, columns=['Cluster 0', 'Cluster 1'], index=['Safe', 'Unsafe'])\n",
    "print(f'Test Accuracy: {(cm[0][0] + cm[1][1]) / test_n}')\n",
    "cm_df"
   ]
  },
  {
   "cell_type": "markdown",
   "id": "0fe4efc8-c7f9-4818-8e97-c34655172eeb",
   "metadata": {},
   "source": [
    "This clustering method also yields a poor test accuracy ~48.1%"
   ]
  },
  {
   "cell_type": "markdown",
   "id": "2eacc3c9-60d0-465e-ab2c-15188d3e854a",
   "metadata": {},
   "source": [
    "## Supervised Methods"
   ]
  },
  {
   "cell_type": "markdown",
   "id": "c1b4232d-0bc2-4c61-b5f6-4f58d7d836bc",
   "metadata": {},
   "source": [
    "### Pipeline Setup"
   ]
  },
  {
   "cell_type": "code",
   "execution_count": 21,
   "id": "0c01c50c-4742-42a1-88ef-7d4205e092c2",
   "metadata": {},
   "outputs": [],
   "source": [
    "from sklearn.pipeline import Pipeline\n",
    "from sklearn.preprocessing import StandardScaler\n",
    "from sklearn.metrics import accuracy_score, f1_score\n",
    "\n",
    "def create_and_train_pipeline(model, X_train=X_train, y_train=y_train):\n",
    "    standard_scaler = StandardScaler()\n",
    "    pipeline = Pipeline(steps=[('Scaler', standard_scaler),\n",
    "                               ('Model', model)])\n",
    "    pipeline.fit(X_train, y_train)\n",
    "    return pipeline\n",
    "\n",
    "def print_test_results(y_true, y_preds):\n",
    "    cm = confusion_matrix(y_true, y_preds)\n",
    "    cm_df = pd.DataFrame(cm, columns=['0 (Prediction)', '1 (Prediction)'], index=['0 (Actual)', '1 (Actual)'])\n",
    "    print(f'Confusion matrix:\\n{cm_df}')\n",
    "    print(f'Accuracy: {accuracy_score(y_true, y_preds)}')\n",
    "    print(f'F1-score: {f1_score(y_true, y_preds)}')"
   ]
  },
  {
   "cell_type": "markdown",
   "id": "7d009828-5039-4bc3-8f2c-bc25024938be",
   "metadata": {},
   "source": [
    "### Logistic Regression"
   ]
  },
  {
   "cell_type": "code",
   "execution_count": 22,
   "id": "945eef11-0295-4c6f-a2a9-7e6b6bb643cc",
   "metadata": {},
   "outputs": [
    {
     "name": "stdout",
     "output_type": "stream",
     "text": [
      "Confusion matrix:\n",
      "            0 (Prediction)  1 (Prediction)\n",
      "0 (Actual)               4             146\n",
      "1 (Actual)              13             240\n",
      "Accuracy: 0.6054590570719603\n",
      "F1-score: 0.7511737089201878\n"
     ]
    }
   ],
   "source": [
    "from sklearn.linear_model import LogisticRegression\n",
    "\n",
    "logistic_reg_pipeline = create_and_train_pipeline(LogisticRegression())\n",
    "logistic_reg_preds = logistic_reg_pipeline.predict(X_test)\n",
    "print_test_results(y_test, logistic_reg_preds)"
   ]
  },
  {
   "cell_type": "markdown",
   "id": "b171d311-5fa7-40f0-90ed-14301fb93c9f",
   "metadata": {},
   "source": [
    "The accuracy of the logistic regression model is about 60% and the F1-score is high (~0.75), but the model has a strong tendency to predict postive cases (unsafe samples), leading to a large number of false positives."
   ]
  },
  {
   "cell_type": "markdown",
   "id": "ba80608d-5b0b-4e57-870a-5b657f8daa2d",
   "metadata": {},
   "source": [
    "### SVM"
   ]
  },
  {
   "cell_type": "code",
   "execution_count": 23,
   "id": "f1c33c35-2951-4aa2-be65-fd5d84491631",
   "metadata": {},
   "outputs": [
    {
     "name": "stdout",
     "output_type": "stream",
     "text": [
      "Confusion matrix:\n",
      "            0 (Prediction)  1 (Prediction)\n",
      "0 (Actual)              60              90\n",
      "1 (Actual)              28             225\n",
      "Accuracy: 0.707196029776675\n",
      "F1-score: 0.7922535211267606\n"
     ]
    }
   ],
   "source": [
    "from sklearn.svm import SVC\n",
    "\n",
    "svm_pipeline = create_and_train_pipeline(SVC())\n",
    "svm_preds = svm_pipeline.predict(X_test)\n",
    "print_test_results(y_test, svm_preds)"
   ]
  },
  {
   "cell_type": "markdown",
   "id": "fb34cb27-ed16-4530-a5c6-acfc69fce4fd",
   "metadata": {},
   "source": [
    "The accuracy of the kernel SVM model is about 70% and the F1-score is 0.79. This model performs better on the negative cases compared to the logistic regression model, as evidenced by the decrease in the number of false positives. However, there are still more false positives than true negatives."
   ]
  },
  {
   "cell_type": "markdown",
   "id": "3334b22f-aefd-4d5c-878d-646763c1d127",
   "metadata": {},
   "source": [
    "### Random Forest (N=10)"
   ]
  },
  {
   "cell_type": "code",
   "execution_count": 24,
   "id": "18554706-5c3c-4b58-b7d1-5dada595c3d0",
   "metadata": {},
   "outputs": [
    {
     "name": "stdout",
     "output_type": "stream",
     "text": [
      "Confusion matrix:\n",
      "            0 (Prediction)  1 (Prediction)\n",
      "0 (Actual)              79              71\n",
      "1 (Actual)              70             183\n",
      "Accuracy: 0.6501240694789082\n",
      "F1-score: 0.7218934911242604\n"
     ]
    }
   ],
   "source": [
    "from sklearn.ensemble import RandomForestClassifier\n",
    "\n",
    "small_random_forest_pipeline = create_and_train_pipeline(RandomForestClassifier(n_estimators=10, random_state=1))\n",
    "small_random_forest_preds = small_random_forest_pipeline.predict(X_test)\n",
    "print_test_results(y_test, small_random_forest_preds)"
   ]
  },
  {
   "cell_type": "markdown",
   "id": "95b0078b-bf6a-4335-af8d-4488042107e0",
   "metadata": {},
   "source": [
    "The accuracy of the model is 65% and the F1-score is 0.72. While both metrics are slightly worse than those for the SVM classifier, there is a considerable decrease in the number of false positives."
   ]
  },
  {
   "cell_type": "markdown",
   "id": "3f35346f-6476-418e-b0d6-f0d19ef9c38f",
   "metadata": {},
   "source": [
    "### Random Forest (N=100)"
   ]
  },
  {
   "cell_type": "code",
   "execution_count": 25,
   "id": "5f4ccfce-c5fe-4b06-ad68-64577cd3089c",
   "metadata": {},
   "outputs": [
    {
     "name": "stdout",
     "output_type": "stream",
     "text": [
      "Confusion matrix:\n",
      "            0 (Prediction)  1 (Prediction)\n",
      "0 (Actual)              64              86\n",
      "1 (Actual)              41             212\n",
      "Accuracy: 0.684863523573201\n",
      "F1-score: 0.7695099818511797\n"
     ]
    }
   ],
   "source": [
    "large_random_forest_pipeline = create_and_train_pipeline(RandomForestClassifier(n_estimators=100, random_state=1))\n",
    "large_random_forest_preds = large_random_forest_pipeline.predict(X_test)\n",
    "print_test_results(y_test, large_random_forest_preds)"
   ]
  },
  {
   "cell_type": "markdown",
   "id": "8f29cd46-e105-4753-b4fd-9378dc874876",
   "metadata": {},
   "source": [
    "With an increase in the number of estimators, the accuracy increased to 68% and the F1-score increased to 0.77. However, there was an increase in the number of false positives."
   ]
  },
  {
   "cell_type": "markdown",
   "id": "d13d6cec-f460-4ea1-8eaf-44dd59d6c02b",
   "metadata": {},
   "source": [
    "### XGBoost"
   ]
  },
  {
   "cell_type": "code",
   "execution_count": 26,
   "id": "b8081f15-5232-406a-85f5-609d1f02074b",
   "metadata": {},
   "outputs": [
    {
     "name": "stdout",
     "output_type": "stream",
     "text": [
      "Confusion matrix:\n",
      "            0 (Prediction)  1 (Prediction)\n",
      "0 (Actual)              45             105\n",
      "1 (Actual)              19             234\n",
      "Accuracy: 0.6923076923076923\n",
      "F1-score: 0.7905405405405405\n"
     ]
    }
   ],
   "source": [
    "from xgboost import XGBClassifier\n",
    "\n",
    "xgb_pipeline = create_and_train_pipeline(XGBClassifier(n_estimators=10, learning_rate=0.1, random_state=1))\n",
    "xgb_preds = xgb_pipeline = xgb_pipeline.predict(X_test)\n",
    "print_test_results(y_test, xgb_preds)"
   ]
  },
  {
   "cell_type": "markdown",
   "id": "572a7cd4-357d-4a21-92fd-501e611ed093",
   "metadata": {},
   "source": [
    "The XGBoost classifier, with 10 estimators, yields a 69% accuracy and a 0.79 F1-score, which is better performance than the two random forest models. However, the number of false positives increased, indicating poor specificity."
   ]
  },
  {
   "cell_type": "markdown",
   "id": "0369b565-0839-4156-9fce-004487c0970d",
   "metadata": {},
   "source": [
    "## Conclusion"
   ]
  },
  {
   "cell_type": "code",
   "execution_count": 27,
   "id": "898c1e02-988c-4e8b-9188-25286ccac307",
   "metadata": {},
   "outputs": [
    {
     "data": {
      "text/html": [
       "<div>\n",
       "<style scoped>\n",
       "    .dataframe tbody tr th:only-of-type {\n",
       "        vertical-align: middle;\n",
       "    }\n",
       "\n",
       "    .dataframe tbody tr th {\n",
       "        vertical-align: top;\n",
       "    }\n",
       "\n",
       "    .dataframe thead th {\n",
       "        text-align: right;\n",
       "    }\n",
       "</style>\n",
       "<table border=\"1\" class=\"dataframe\">\n",
       "  <thead>\n",
       "    <tr style=\"text-align: right;\">\n",
       "      <th></th>\n",
       "      <th>SVM</th>\n",
       "      <th>XGBoost</th>\n",
       "      <th>Large RF</th>\n",
       "      <th>Small RF</th>\n",
       "      <th>Logistic Regression</th>\n",
       "    </tr>\n",
       "  </thead>\n",
       "  <tbody>\n",
       "    <tr>\n",
       "      <th>MCC</th>\n",
       "      <td>0.338532</td>\n",
       "      <td>0.297446</td>\n",
       "      <td>0.291415</td>\n",
       "      <td>0.25033</td>\n",
       "      <td>-0.05944</td>\n",
       "    </tr>\n",
       "  </tbody>\n",
       "</table>\n",
       "</div>"
      ],
      "text/plain": [
       "          SVM   XGBoost  Large RF  Small RF  Logistic Regression\n",
       "MCC  0.338532  0.297446  0.291415   0.25033             -0.05944"
      ]
     },
     "execution_count": 27,
     "metadata": {},
     "output_type": "execute_result"
    }
   ],
   "source": [
    "# Calculate test MCC metric for each model\n",
    "from sklearn.metrics import matthews_corrcoef\n",
    "\n",
    "all_model_predictions = {'Logistic Regression': logistic_reg_preds,\n",
    "                         'SVM': svm_preds, \n",
    "                         'Small RF': small_random_forest_preds, \n",
    "                         'Large RF': large_random_forest_preds, \n",
    "                         'XGBoost': xgb_preds}\n",
    "mccs = {}\n",
    "for model, test_preds in all_model_predictions.items():\n",
    "    mccs[model] = matthews_corrcoef(y_test, test_preds)\n",
    "\n",
    "mccs = {k: v for k, v in sorted(mccs.items(), key=lambda item: item[1], reverse=True)}\n",
    "pd.DataFrame(mccs, index=['MCC'])"
   ]
  },
  {
   "cell_type": "code",
   "execution_count": 28,
   "id": "00d1e117-70f5-4083-bd3e-2dac11edffa6",
   "metadata": {},
   "outputs": [
    {
     "data": {
      "image/png": "[encoded data removed]",
      "text/plain": [
       "<Figure size 640x480 with 1 Axes>"
      ]
     },
     "metadata": {},
     "output_type": "display_data"
    }
   ],
   "source": [
    "plt.figure()\n",
    "sns.set_style('whitegrid')\n",
    "plt.xticks(rotation='vertical')\n",
    "plt.ylabel('MCC')\n",
    "sns.barplot(mccs)\n",
    "plt.show()"
   ]
  },
  {
   "cell_type": "markdown",
   "id": "9d5c0630-58d5-4b8c-94ba-aacb2bb7fe56",
   "metadata": {},
   "source": [
    "The SVM model had the highest MCC among all models, but it is only about 0.34 (ideal value is 1.0). As mentioned in the mutual information analysis, the feature variables do not exhibit a strong relationship with target variable. This limits how well we can predict non-potability of a water sample with this dataset. More relevant features could help improve the prediction accuracy of these models."
   ]
  }
 ],
 "metadata": {
  "kernelspec": {
   "display_name": "Python 3 (ipykernel)",
   "language": "python",
   "name": "python3"
  },
  "language_info": {
   "codemirror_mode": {
    "name": "ipython",
    "version": 3
   },
   "file_extension": ".py",
   "mimetype": "text/x-python",
   "name": "python",
   "nbconvert_exporter": "python",
   "pygments_lexer": "ipython3",
   "version": "3.8.10"
  }
 },
 "nbformat": 4,
 "nbformat_minor": 5
}
